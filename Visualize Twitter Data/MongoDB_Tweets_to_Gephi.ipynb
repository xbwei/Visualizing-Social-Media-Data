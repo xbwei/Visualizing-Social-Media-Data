{
 "cells": [
  {
   "cell_type": "markdown",
   "id": "6b2ce407",
   "metadata": {},
   "source": [
    "# Convert Tweets in MongoDB to Gephi"
   ]
  },
  {
   "cell_type": "markdown",
   "id": "5fc5942e",
   "metadata": {},
   "source": [
    "## Install Python libraries\n",
    "\n",
    "You may need to restart your Jupyter Notebook instance after installed those libraries."
   ]
  },
  {
   "cell_type": "code",
   "execution_count": null,
   "id": "91c0fbd7",
   "metadata": {},
   "outputs": [],
   "source": [
    "!pip install pymongo"
   ]
  },
  {
   "cell_type": "code",
   "execution_count": null,
   "id": "895bb96a",
   "metadata": {},
   "outputs": [],
   "source": [
    "!pip install pymongo[srv]"
   ]
  },
  {
   "cell_type": "code",
   "execution_count": null,
   "id": "199331f5",
   "metadata": {
    "scrolled": true
   },
   "outputs": [],
   "source": [
    "!pip install dnspython"
   ]
  },
  {
   "cell_type": "code",
   "execution_count": null,
   "id": "5c821e9c",
   "metadata": {},
   "outputs": [],
   "source": [
    "!pip install networkx"
   ]
  },
  {
   "cell_type": "markdown",
   "id": "10764dd9",
   "metadata": {},
   "source": [
    "## Import Python libraries"
   ]
  },
  {
   "cell_type": "code",
   "execution_count": null,
   "id": "c9723704",
   "metadata": {},
   "outputs": [],
   "source": [
    "import pymongo\n",
    "from pymongo import MongoClient\n",
    "import configparser\n",
    "import networkx as nx"
   ]
  },
  {
   "cell_type": "markdown",
   "id": "cdc6b20b",
   "metadata": {},
   "source": [
    "##  Load the Authorization Info"
   ]
  },
  {
   "cell_type": "code",
   "execution_count": null,
   "id": "ab4b0700",
   "metadata": {},
   "outputs": [],
   "source": [
    "config = configparser.ConfigParser()\n",
    "config.read('config.ini')\n",
    "\n",
    "mongod_connect = config['mymongo']['connection']"
   ]
  },
  {
   "cell_type": "markdown",
   "id": "4ad82755",
   "metadata": {},
   "source": [
    "## Connect to the MongoDB Cluster"
   ]
  },
  {
   "cell_type": "code",
   "execution_count": null,
   "id": "30ed87d3",
   "metadata": {},
   "outputs": [],
   "source": [
    "client = MongoClient(mongod_connect)\n",
    "db = client.lab2 # use or create a database named demo\n",
    "tweet_collection = db.tweet_collection #use or create a collection named tweet_collection\n",
    "# tweet_collection.create_index([(\"id\", pymongo.ASCENDING)],unique = True) # make sure the collected tweets are unique"
   ]
  },
  {
   "cell_type": "markdown",
   "id": "d99fea8b",
   "metadata": {},
   "source": [
    "## The hashtag network"
   ]
  },
  {
   "cell_type": "markdown",
   "id": "03906cbb",
   "metadata": {},
   "source": [
    "Undirected network, hashtags in a single tweet form connections to others. \n",
    "Weight is the number of such connections being formed from the entire data"
   ]
  },
  {
   "cell_type": "code",
   "execution_count": null,
   "id": "707772c3",
   "metadata": {},
   "outputs": [],
   "source": [
    "hashtag_graph = nx.Graph() "
   ]
  },
  {
   "cell_type": "markdown",
   "id": "ee21cae5",
   "metadata": {},
   "source": [
    "## The user to mentioned user network"
   ]
  },
  {
   "cell_type": "markdown",
   "id": "09f99682",
   "metadata": {},
   "source": [
    "Directed network, each connection is from author to  one of the mentioned users in a single tweet. \n",
    "Weight is the number of such connections being formed from the entire data"
   ]
  },
  {
   "cell_type": "code",
   "execution_count": null,
   "id": "136577ea",
   "metadata": {},
   "outputs": [],
   "source": [
    "user_to_mention_graph = nx.DiGraph()"
   ]
  },
  {
   "cell_type": "markdown",
   "id": "467b8b5a",
   "metadata": {},
   "source": [
    "## Create networks"
   ]
  },
  {
   "cell_type": "code",
   "execution_count": null,
   "id": "c9af962e",
   "metadata": {},
   "outputs": [],
   "source": [
    "tweet_cursor = tweet_collection.find()"
   ]
  },
  {
   "cell_type": "markdown",
   "id": "0fff80e9",
   "metadata": {},
   "source": [
    "Define the number of tweets your want to process"
   ]
  },
  {
   "cell_type": "code",
   "execution_count": null,
   "id": "62809162",
   "metadata": {},
   "outputs": [],
   "source": [
    "number_of_tweets = 1000  #defualt is 1000, you can change value "
   ]
  },
  {
   "cell_type": "code",
   "execution_count": null,
   "id": "e6bf9929",
   "metadata": {},
   "outputs": [],
   "source": [
    "for document in tweet_cursor[0:number_of_tweets]:\n",
    "\n",
    "    try:\n",
    "        '''\n",
    "        create hashtag network\n",
    "        '''\n",
    " \n",
    "        if len(document[\"entities\"][\"hashtags\"]) !=0:\n",
    "            for hashtag1 in document[\"entities\"][\"hashtags\"]:\n",
    "                hashtag1_text = hashtag1[\"text\"]\n",
    "                for hashtag2 in document[\"entities\"][\"hashtags\"]:\n",
    "                    hashtag2_text = hashtag2[\"text\"]\n",
    "                    if hashtag1_text != hashtag2_text:\n",
    "                        if hashtag_graph.has_edge(hashtag1_text, hashtag2_text):\n",
    "                            hashtag_graph[hashtag1_text][hashtag2_text]['weight']= 0.5 + hashtag_graph[hashtag1_text][hashtag2_text]['weight']\n",
    "                        else:\n",
    "                            hashtag_graph.add_edge(hashtag1_text,hashtag2_text, weight = 0.5)\n",
    "    except:\n",
    "        print('wrong in adding hashtags')\n",
    "        print (document[\"entities\"][\"hashtags\"])\n",
    "        continue\n",
    "\n",
    "\n",
    "    try:\n",
    "        '''\n",
    "        create user to mentioned user network\n",
    "        '''\n",
    "        \n",
    "        if len(document[\"entities\"][\"user_mentions\"])!=0:\n",
    "            ego_user = document[\"user\"][\"screen_name\"]\n",
    "            for mentioned_user in document[\"entities\"][\"user_mentions\"]:\n",
    "                actor_user = mentioned_user[\"screen_name\"]\n",
    "                if user_to_mention_graph.has_edge(ego_user, actor_user):\n",
    "                    user_to_mention_graph[ego_user][actor_user]['weight']= 1.0 + user_to_mention_graph[ego_user][actor_user]['weight']\n",
    "                else:\n",
    "                    user_to_mention_graph.add_edge(ego_user,actor_user, weight = 1.0)\n",
    "\n",
    "\n",
    "    except:\n",
    "        print('wrong in adding users')\n",
    "        print (ego_user)\n",
    "        print (document[\"entities\"][\"user_mentions\"])\n",
    "        continue"
   ]
  },
  {
   "cell_type": "code",
   "execution_count": null,
   "id": "d0e8398c",
   "metadata": {},
   "outputs": [],
   "source": [
    "nx.write_gexf(hashtag_graph,\"hashtag_graph.gexf\")\n",
    "nx.write_gexf(user_to_mention_graph,\"user_to_mention_graph.gexf\")"
   ]
  },
  {
   "cell_type": "code",
   "execution_count": null,
   "id": "5b3b6e90",
   "metadata": {},
   "outputs": [],
   "source": [
    "print ('number of nodes in hashtag network:', hashtag_graph.number_of_nodes())\n",
    "print ('number of edges in hashtag network:', hashtag_graph.number_of_edges())\n",
    "\n",
    "print ('number of nodes in user to mention network:', user_to_mention_graph.number_of_nodes())\n",
    "print ('number of edges in user to mention network:', user_to_mention_graph.number_of_edges())"
   ]
  }
 ],
 "metadata": {
  "kernelspec": {
   "display_name": "conda_python3",
   "language": "python",
   "name": "conda_python3"
  },
  "language_info": {
   "codemirror_mode": {
    "name": "ipython",
    "version": 3
   },
   "file_extension": ".py",
   "mimetype": "text/x-python",
   "name": "python",
   "nbconvert_exporter": "python",
   "pygments_lexer": "ipython3",
   "version": "3.10.8"
  }
 },
 "nbformat": 4,
 "nbformat_minor": 5
}
